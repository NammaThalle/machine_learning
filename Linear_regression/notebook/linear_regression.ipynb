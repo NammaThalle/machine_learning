{
 "cells": [
  {
   "cell_type": "markdown",
   "metadata": {},
   "source": [
    "#### 1. Packages\n",
    "Import all the packages required.\n",
    "1. __numpy__ - required for scientific computing with Python.\n",
    "2.  __matplotlib__ - to plot graphs in Python.\n",
    "3. __copy__ - to use deepcopy - making a totally different object\n",
    "4. __math__ - to use mathematical functions"
   ]
  },
  {
   "cell_type": "code",
   "execution_count": null,
   "metadata": {},
   "outputs": [],
   "source": [
    "import numpy as np\n",
    "import matplotlib.pyplot as plt \n",
    "import copy\n",
    "import math"
   ]
  },
  {
   "cell_type": "markdown",
   "metadata": {},
   "source": [
    "#### 2. Creating a simple dataset\n",
    "| Size (sqft) | Number of Bedrooms  | Number of floors | Age of  Home | Price (1000s dollars)  |   \n",
    "| ----------------| ------------------- |----------------- |--------------|-------------- |  \n",
    "| 2104            | 5                   | 1                | 45           | 460           |  \n",
    "| 1416            | 3                   | 2                | 40           | 232           |  \n",
    "| 852             | 2                   | 1                | 35           | 178           |  \n",
    "\n",
    "Create the training dataset as shown above:\n",
    "   * x_train - creates 3 examples of housing details having size in sqft, no. of bedrooms, floors, age of the house\n",
    "   * y_train - corresponding price of the house in $1000's for training purpose\n"
   ]
  },
  {
   "cell_type": "code",
   "execution_count": null,
   "metadata": {},
   "outputs": [],
   "source": [
    "def create_dataset():\n",
    "    # create the training dataset\n",
    "    x_train = np.array([[2104, 5, 1, 45], [1416, 3, 2, 40], [852, 2, 1, 35]])\n",
    "    y_train = np.array([460,232,178])\n",
    "\n",
    "    # get the shape of the training dataset\n",
    "    shape_X = x_train.shape\n",
    "    shape_Y = y_train.shape\n",
    "\n",
    "    # store the size of the training data\n",
    "    m = x_train.shape[0]\n",
    "\n",
    "    # print the data properties\n",
    "    print(\"Number of training examples \" + str(m))\n",
    "    print(\"Shape of X = \" + str(shape_X))\n",
    "    print(\"Shape of Y = \" + str(shape_Y))\n",
    "    print()\n",
    "\n",
    "    return x_train, y_train\n"
   ]
  },
  {
   "cell_type": "markdown",
   "metadata": {},
   "source": [
    "#### 3. Initializing the weight and bias vectors\n",
    "* these are initialized based on the values that are nearer to the optimal values."
   ]
  },
  {
   "cell_type": "code",
   "execution_count": null,
   "metadata": {},
   "outputs": [],
   "source": [
    "def initialize_weight_and_bias():\n",
    "    # assigning values\n",
    "    b_init = 785.1811367994083\n",
    "    w_init = np.array([ 0.39133535, 18.75376741, -53.36032453, -26.42131618])\n",
    "\n",
    "    # getting the shape\n",
    "    shape_b_init = type(b_init)\n",
    "    shape_w_init = w_init.shape\n",
    "    print(\"Type of b = \" + str(shape_b_init))\n",
    "    print(\"Shape of w = \" + str(shape_w_init))\n",
    "    print()\n",
    "\n",
    "    return b_init, w_init"
   ]
  },
  {
   "cell_type": "markdown",
   "metadata": {},
   "source": [
    "#### 3. Compute Cost with Multiple Variables\n",
    "1. Find the cost with the multiple variables using the following formula\n",
    "$$J(\\mathbf{w},b) = \\frac{1}{2m} \\sum\\limits_{i = 0}^{m-1} (f_{\\mathbf{w},b}(\\mathbf{x}^{(i)}) - y^{(i)})^2 \\tag{1}$$ \n",
    "2. Where \n",
    " $$ f_{\\mathbf{w},b}(\\mathbf{x}^{(i)}) = \\mathbf{w} \\cdot \\mathbf{x}^{(i)} + b  \\tag{2} $$ \n"
   ]
  },
  {
   "cell_type": "code",
   "execution_count": null,
   "metadata": {},
   "outputs": [],
   "source": [
    "def compute_cost(X, y, w, b):\n",
    "    \n",
    "    #find the size of the Dataset\n",
    "    m = X.shape[0]\n",
    "\n",
    "    # initialize the cost to 0\n",
    "    cost = 0.0\n",
    "\n",
    "    # using the equation 1 and 2 compute the cost    \n",
    "    for i in range(m):\n",
    "        fw_b = np.dot(X[i], w) + b\n",
    "        cost = cost + (fw_b - y[i])**2\n",
    "\n",
    "    cost = cost / (2 * m)\n",
    "\n",
    "    return cost"
   ]
  },
  {
   "cell_type": "markdown",
   "metadata": {},
   "source": [
    "#### 4. Gradient Descent with Multiple Variables\n",
    "1. Compute the gradient\n",
    "$$\\begin{align}\n",
    "\\frac{\\partial J(\\mathbf{w},b)}{\\partial w_j}  = \\frac{1}{m} \\sum\\limits_{i = 0}^{m-1} (f_{\\mathbf{w},b}(\\mathbf{x}^{(i)}) - y^{(i)})x_{j}^{(i)} \\\\\n",
    "\\frac{\\partial J(\\mathbf{w},b)}{\\partial b}  = \\frac{1}{m} \\sum\\limits_{i = 0}^{m-1} (f_{\\mathbf{w},b}(\\mathbf{x}^{(i)}) - y^{(i)}) \\tag{3}\n",
    "\\end{align}$$\n",
    "\n",
    "2. Perform the gradient descent\n",
    "$$\\begin{align*} \\text{repeat}&\\text{ until convergence:} \\newline\\; \\lbrace \\newline\\;\n",
    "& w_j = w_j -  \\alpha \\frac{\\partial J(\\mathbf{w},b)}{\\partial w_j} \\tag{4}  \\; & \\text{for j = 0..n-1}\\newline\n",
    "&b\\ \\ = b -  \\alpha \\frac{\\partial J(\\mathbf{w},b)}{\\partial b}  \\newline \\rbrace\n",
    "\\end{align*}$$\n"
   ]
  },
  {
   "cell_type": "code",
   "execution_count": null,
   "metadata": {},
   "outputs": [],
   "source": [
    "def compute_gradient(X, y, w, b):\n",
    "    \n",
    "    # get the number of examples and number of features\n",
    "    m,n = X.shape\n",
    "\n",
    "    # initialize gradients\n",
    "    dj_dw = np.zeros((n,))\n",
    "    dj_db = 0.\n",
    "\n",
    "    # compute the gradient\n",
    "    for i in range(m):\n",
    "        error = (np.dot(X[i], w) + b) - y[i]\n",
    "        for j in range(n):\n",
    "            dj_dw[j] = dj_dw[j] + (error * X[i, j])\n",
    "        dj_db = dj_db + error\n",
    "    dj_dw = dj_dw / m\n",
    "    dj_db = dj_db / m\n",
    "\n",
    "    return dj_db, dj_dw"
   ]
  },
  {
   "cell_type": "code",
   "execution_count": null,
   "metadata": {},
   "outputs": [],
   "source": [
    "def gradient_descent(X, y, w_in, b_in, alpha, iterations = 1000):\n",
    "    \n",
    "    # array to copy all the cost values\n",
    "    J_history = []\n",
    "\n",
    "    # copy to avoid changes in the global variables\n",
    "    w = copy.deepcopy(w_in)\n",
    "    b = b_in\n",
    "\n",
    "    # perform the gradient descent for given iterations \n",
    "    # to reduce the cost \n",
    "    for i in range(iterations):\n",
    "\n",
    "        dj_db, dj_dw = compute_gradient(X, y, w, b)\n",
    "\n",
    "        w = w - alpha * dj_dw\n",
    "        b = b - alpha * dj_db\n",
    "\n",
    "        J_history.append(compute_cost(X, y, w, b))\n",
    "\n",
    "        if i % math.ceil(iterations / 10) == 0:\n",
    "            print(f\"Iteration {i} : Cost {J_history[-1]}\")\n",
    "\n",
    "    print()\n",
    "\n",
    "    return w, b, J_history"
   ]
  },
  {
   "cell_type": "markdown",
   "metadata": {},
   "source": [
    "#### 5. Creating the Pipeline\n",
    "1. Create the dataset\n",
    "2. Initialize the weights and bias\n",
    "3. Initialize the Hyperparameters\n",
    "4. Perform the Gradient Descent\n",
    "5. Compare the Actual vs Predicted cost of the house"
   ]
  },
  {
   "cell_type": "code",
   "execution_count": null,
   "metadata": {},
   "outputs": [],
   "source": [
    "def main():\n",
    "\n",
    "    X_train, y_train = create_dataset()\n",
    "\n",
    "    b_in, w_in = initialize_weight_and_bias()\n",
    "\n",
    "    alpha = 5.0e-7\n",
    "\n",
    "    iterations = 1000\n",
    "\n",
    "    w_final, b_final, J_History = gradient_descent(X_train, y_train, w_in, b_in, alpha, iterations)\n",
    "    \n",
    "    print(f\"w and b found by gradient descent: {w_final} and {b_final}\")\n",
    "    print()\n",
    "\n",
    "    m,_ = X_train.shape\n",
    "    for i in range(m):\n",
    "        print(f\"Actual: {y_train[i]}, Predicted: {np.dot(X_train[i], w_final) + b_final}\")\n",
    "    print()\n"
   ]
  },
  {
   "cell_type": "code",
   "execution_count": null,
   "metadata": {},
   "outputs": [],
   "source": [
    "if __name__==\"__main__\":\n",
    "    main()"
   ]
  }
 ],
 "metadata": {
  "kernelspec": {
   "display_name": "Python 3.10.6 ('opencv_cuda')",
   "language": "python",
   "name": "python3"
  },
  "language_info": {
   "codemirror_mode": {
    "name": "ipython",
    "version": 3
   },
   "file_extension": ".py",
   "mimetype": "text/x-python",
   "name": "python",
   "nbconvert_exporter": "python",
   "pygments_lexer": "ipython3",
   "version": "3.10.6"
  },
  "orig_nbformat": 4,
  "vscode": {
   "interpreter": {
    "hash": "2186d3a8652b1c2db7e3ad149f616fdc21ffe1477a4bff10386bb619da15717a"
   }
  }
 },
 "nbformat": 4,
 "nbformat_minor": 2
}
